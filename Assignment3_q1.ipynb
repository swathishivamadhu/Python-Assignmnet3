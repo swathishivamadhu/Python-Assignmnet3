{
  "nbformat": 4,
  "nbformat_minor": 0,
  "metadata": {
    "colab": {
      "provenance": [],
      "authorship_tag": "ABX9TyMwr0hDpZCsBSHvoad04IUN",
      "include_colab_link": true
    },
    "kernelspec": {
      "name": "python3",
      "display_name": "Python 3"
    },
    "language_info": {
      "name": "python"
    }
  },
  "cells": [
    {
      "cell_type": "markdown",
      "metadata": {
        "id": "view-in-github",
        "colab_type": "text"
      },
      "source": [
        "<a href=\"https://colab.research.google.com/github/swathishivamadhu/Python-Assignmnet3/blob/main/Assignment3_q1.ipynb\" target=\"_parent\"><img src=\"https://colab.research.google.com/assets/colab-badge.svg\" alt=\"Open In Colab\"/></a>"
      ]
    },
    {
      "cell_type": "code",
      "execution_count": 3,
      "metadata": {
        "colab": {
          "base_uri": "https://localhost:8080/"
        },
        "id": "21ITBqGUeoI8",
        "outputId": "d5b30695-b552-4d23-f9ee-8c6a8164de0d"
      },
      "outputs": [
        {
          "output_type": "stream",
          "name": "stdout",
          "text": [
            "20\n"
          ]
        }
      ],
      "source": [
        "def list(numbers):\n",
        "  total=sum(numbers)\n",
        "  return total\n",
        "sum_list=[8,2,3,0,7]\n",
        "result=list(sum_list)\n",
        "print(result)"
      ]
    },
    {
      "cell_type": "code",
      "source": [],
      "metadata": {
        "id": "mRHtJeHNXe80"
      },
      "execution_count": null,
      "outputs": []
    }
  ]
}