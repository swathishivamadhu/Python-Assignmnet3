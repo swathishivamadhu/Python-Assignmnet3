{
  "nbformat": 4,
  "nbformat_minor": 0,
  "metadata": {
    "colab": {
      "provenance": [],
      "authorship_tag": "ABX9TyMXHBT3RIexW113nFIdn/kR",
      "include_colab_link": true
    },
    "kernelspec": {
      "name": "python3",
      "display_name": "Python 3"
    },
    "language_info": {
      "name": "python"
    }
  },
  "cells": [
    {
      "cell_type": "markdown",
      "metadata": {
        "id": "view-in-github",
        "colab_type": "text"
      },
      "source": [
        "<a href=\"https://colab.research.google.com/github/swathishivamadhu/Python-Assignmnet3/blob/main/Assignment3_q1_q2.ipynb\" target=\"_parent\"><img src=\"https://colab.research.google.com/assets/colab-badge.svg\" alt=\"Open In Colab\"/></a>"
      ]
    },
    {
      "cell_type": "markdown",
      "source": [
        "Question 1"
      ],
      "metadata": {
        "id": "OeA5lOlVbkNm"
      }
    },
    {
      "cell_type": "code",
      "execution_count": 3,
      "metadata": {
        "colab": {
          "base_uri": "https://localhost:8080/"
        },
        "id": "21ITBqGUeoI8",
        "outputId": "d5b30695-b552-4d23-f9ee-8c6a8164de0d"
      },
      "outputs": [
        {
          "output_type": "stream",
          "name": "stdout",
          "text": [
            "20\n"
          ]
        }
      ],
      "source": [
        "def list(numbers):\n",
        "  total=sum(numbers)\n",
        "  return total\n",
        "sum_list=[8,2,3,0,7]\n",
        "result=list(sum_list)\n",
        "print(result)"
      ]
    },
    {
      "cell_type": "markdown",
      "source": [
        "Question 2\n"
      ],
      "metadata": {
        "id": "eOGnXfHpbrYp"
      }
    },
    {
      "cell_type": "code",
      "source": [
        "def reverse_string(string):\n",
        "  string_reversed=string[::-1]\n",
        "  return string_reversed\n",
        "input_string=input(\"Enter a string: \")\n",
        "string_reversed=reverse_string(input_string)\n",
        "print(\"Reverse a string::\",string_reversed)"
      ],
      "metadata": {
        "colab": {
          "base_uri": "https://localhost:8080/"
        },
        "id": "pnoVbCQ4bs3z",
        "outputId": "d5439ff5-cd14-48fa-f999-1a32caf5922d"
      },
      "execution_count": 6,
      "outputs": [
        {
          "output_type": "stream",
          "name": "stdout",
          "text": [
            "Enter a string: \"1234abcd\"\n",
            "Reverse a string:: \"dcba4321\"\n"
          ]
        }
      ]
    },
    {
      "cell_type": "markdown",
      "source": [
        "Question 3"
      ],
      "metadata": {
        "id": "kAXjTx8MmdCe"
      }
    },
    {
      "cell_type": "code",
      "source": [
        "def upper_lower(string):\n",
        "  upper_count=0\n",
        "  lower_count=0\n",
        "  for char in string:\n",
        "    if char.isupper():\n",
        "      upper_count +=1\n",
        "    elif char.islower():\n",
        "      lower_count +=1\n",
        "  return upper_count,lower_count\n",
        "text=input(\"Enter string to check case letters:: \")\n",
        "upper,lower=upper_lower(text)\n",
        "print(\"Uppercase count::\",upper)\n",
        "print(\"Lowercase count::\",lower)"
      ],
      "metadata": {
        "colab": {
          "base_uri": "https://localhost:8080/"
        },
        "id": "K3Z3oPHmmezg",
        "outputId": "21b09950-7594-475d-f94d-a2fcb62202ea"
      },
      "execution_count": 10,
      "outputs": [
        {
          "output_type": "stream",
          "name": "stdout",
          "text": [
            "Enter string to check case letters:: The quick Brow Fox\n",
            "Uppercase count:: 3\n",
            "Lowercase count:: 12\n"
          ]
        }
      ]
    }
  ]
}